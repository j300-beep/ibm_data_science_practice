{
 "cells": [
  {
   "cell_type": "markdown",
   "id": "78e8c3ee-48fa-4f25-bb68-6bc4219c34a5",
   "metadata": {},
   "source": [
    "# Data Science Tools and Ecosystem"
   ]
  },
  {
   "cell_type": "markdown",
   "id": "37112f20-61d2-42f8-b4a3-6d7c71ff526e",
   "metadata": {},
   "source": [
    "In this notebook, Data Science Tools and Ecosystem are summarized."
   ]
  },
  {
   "cell_type": "markdown",
   "id": "5339bf2d-1ef8-45f0-886e-d03f9942ec23",
   "metadata": {},
   "source": [
    "**Objectives**\n",
    "- List some of the popular languages that Data Scientists use.\n",
    "- List some of the common libraries that Data Scientists use.\n",
    "- List three open-source development environment tools.\n",
    "- Provide two examples of evaluating arithmetic expressions in Python."
   ]
  },
  {
   "cell_type": "markdown",
   "id": "2293f269-a78b-411c-83ba-0987700d755c",
   "metadata": {},
   "source": [
    "Some of the popular languages that Data Scientists use are:\n",
    "1. Python\n",
    "2. R\n",
    "3. SQL"
   ]
  },
  {
   "cell_type": "markdown",
   "id": "a6a1d81f-39da-43e4-841e-3103a7c38547",
   "metadata": {},
   "source": [
    "Some of the commonly used librabries used by Data Scientists include:\n",
    "1. pandas\n",
    "2. numPy\n",
    "3. plotly"
   ]
  },
  {
   "cell_type": "markdown",
   "id": "273bc6df-f09d-449c-8014-5ad024b5ace9",
   "metadata": {},
   "source": [
    "|Data Science Tools|\n",
    "|------------------|\n",
    "|Jupyter Notebook|\n",
    "|RStudio|\n",
    "|Spyder|"
   ]
  },
  {
   "cell_type": "markdown",
   "id": "a7d1c566-7eee-4efe-a53f-c2022a485de7",
   "metadata": {},
   "source": [
    "### Below are a few examples of evaluating arithmetic expressions in Python."
   ]
  },
  {
   "cell_type": "code",
   "execution_count": 7,
   "id": "b3de3f0a-9821-435e-b76d-94f28382e079",
   "metadata": {},
   "outputs": [
    {
     "data": {
      "text/plain": [
       "17"
      ]
     },
     "execution_count": 7,
     "metadata": {},
     "output_type": "execute_result"
    }
   ],
   "source": [
    "# This is a simple arithmetic expression to multiply then add integers. \n",
    "(3*4)+5"
   ]
  },
  {
   "cell_type": "code",
   "execution_count": 9,
   "id": "c0df0f09-6ede-4072-8bb6-24923e5a41eb",
   "metadata": {},
   "outputs": [
    {
     "data": {
      "text/plain": [
       "3.3333333333333335"
      ]
     },
     "execution_count": 9,
     "metadata": {},
     "output_type": "execute_result"
    }
   ],
   "source": [
    "# converting 200 minutes into hours\n",
    "200 / 60"
   ]
  },
  {
   "cell_type": "markdown",
   "id": "1c1135d1-33b2-433e-b621-fe2d1313dc1a",
   "metadata": {},
   "source": [
    "## Author\n",
    "Jesse Andrews"
   ]
  },
  {
   "cell_type": "code",
   "execution_count": null,
   "id": "6ca6dd25-8c5a-48e6-9dd2-36094944f109",
   "metadata": {},
   "outputs": [],
   "source": []
  }
 ],
 "metadata": {
  "kernelspec": {
   "display_name": "Python 3 (ipykernel)",
   "language": "python",
   "name": "python3"
  },
  "language_info": {
   "codemirror_mode": {
    "name": "ipython",
    "version": 3
   },
   "file_extension": ".py",
   "mimetype": "text/x-python",
   "name": "python",
   "nbconvert_exporter": "python",
   "pygments_lexer": "ipython3",
   "version": "3.11.11"
  }
 },
 "nbformat": 4,
 "nbformat_minor": 5
}
